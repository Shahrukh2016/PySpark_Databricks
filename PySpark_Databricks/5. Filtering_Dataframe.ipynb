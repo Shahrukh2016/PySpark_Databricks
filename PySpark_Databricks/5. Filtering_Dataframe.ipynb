{
 "cells": [
  {
   "cell_type": "code",
   "execution_count": 0,
   "metadata": {
    "application/vnd.databricks.v1+cell": {
     "cellMetadata": {
      "byteLimit": 2048000,
      "rowLimit": 10000
     },
     "inputWidgets": {},
     "nuid": "46792583-1e9c-4ef0-b788-8bf634c71a04",
     "showTitle": false,
     "title": ""
    }
   },
   "outputs": [],
   "source": [
    "## Importing required libraries\n",
    "from pyspark.sql.functions import col, lit"
   ]
  },
  {
   "cell_type": "code",
   "execution_count": 0,
   "metadata": {
    "application/vnd.databricks.v1+cell": {
     "cellMetadata": {
      "byteLimit": 2048000,
      "rowLimit": 10000
     },
     "inputWidgets": {},
     "nuid": "c04a0338-9a55-4ff8-a538-5c1f48ad9a95",
     "showTitle": false,
     "title": ""
    }
   },
   "outputs": [
    {
     "output_type": "display_data",
     "data": {
      "text/html": [
       "<style scoped>\n",
       "  .table-result-container {\n",
       "    max-height: 300px;\n",
       "    overflow: auto;\n",
       "  }\n",
       "  table, th, td {\n",
       "    border: 1px solid black;\n",
       "    border-collapse: collapse;\n",
       "  }\n",
       "  th, td {\n",
       "    padding: 5px;\n",
       "  }\n",
       "  th {\n",
       "    text-align: left;\n",
       "  }\n",
       "</style><div class='table-result-container'><table class='table-result'><thead style='background-color: white'><tr><th>id</th><th> name</th><th> age</th></tr></thead><tbody><tr><td>50</td><td> James</td><td>35</td></tr><tr><td>51</td><td> Harry</td><td>25</td></tr><tr><td>52</td><td> Garnet</td><td>30</td></tr></tbody></table></div>"
      ]
     },
     "metadata": {
      "application/vnd.databricks.v1+output": {
       "addedWidgets": {},
       "aggData": [],
       "aggError": "",
       "aggOverflow": false,
       "aggSchema": [],
       "aggSeriesLimitReached": false,
       "aggType": "",
       "arguments": {},
       "columnCustomDisplayInfos": {},
       "data": [
        [
         50,
         " James",
         35
        ],
        [
         51,
         " Harry",
         25
        ],
        [
         52,
         " Garnet",
         30
        ]
       ],
       "datasetInfos": [],
       "dbfsResultPath": null,
       "isJsonSchema": true,
       "metadata": {},
       "overflow": false,
       "plotOptions": {
        "customPlotOptions": {},
        "displayType": "table",
        "pivotAggregation": null,
        "pivotColumns": null,
        "xColumns": null,
        "yColumns": null
       },
       "removedWidgets": [],
       "schema": [
        {
         "metadata": "{}",
         "name": "id",
         "type": "\"integer\""
        },
        {
         "metadata": "{}",
         "name": " name",
         "type": "\"string\""
        },
        {
         "metadata": "{}",
         "name": " age",
         "type": "\"integer\""
        }
       ],
       "type": "table"
      }
     },
     "output_type": "display_data"
    }
   ],
   "source": [
    "# File location and type\n",
    "file_location = \"/FileStore/tables/sample_csv-3.csv\"\n",
    "file_type = \"csv\"\n",
    "\n",
    "# CSV options\n",
    "infer_schema = \"true\"\n",
    "first_row_is_header = \"true\"\n",
    "delimiter = \",\"\n",
    "\n",
    "# The applied options are for CSV files. For other file types, these will be ignored.\n",
    "df = spark.read.format(file_type) \\\n",
    "  .option(\"inferSchema\", infer_schema) \\\n",
    "  .option(\"header\", first_row_is_header) \\\n",
    "  .option(\"sep\", delimiter) \\\n",
    "  .load(file_location)\n",
    "\n",
    "display(df)"
   ]
  },
  {
   "cell_type": "code",
   "execution_count": 0,
   "metadata": {
    "application/vnd.databricks.v1+cell": {
     "cellMetadata": {
      "byteLimit": 2048000,
      "rowLimit": 10000
     },
     "inputWidgets": {},
     "nuid": "4a2065fb-51a3-48ea-a521-81865a309ff1",
     "showTitle": false,
     "title": ""
    }
   },
   "outputs": [
    {
     "output_type": "stream",
     "name": "stdout",
     "output_type": "stream",
     "text": [
      "+------+--------+-------+\n|id_new|name_new|age_new|\n+------+--------+-------+\n|    50|   James|     35|\n|    51|   Harry|     25|\n|    52|  Garnet|     30|\n+------+--------+-------+\n\n"
     ]
    }
   ],
   "source": [
    "## finalizing the dataframe\n",
    "df = df.withColumnRenamed(\"id\", \"id_new\").withColumnRenamed(\" name\", \"name_new\").withColumnRenamed(\" age\", \"age_new\")\n",
    "df.show()"
   ]
  },
  {
   "cell_type": "markdown",
   "metadata": {
    "application/vnd.databricks.v1+cell": {
     "cellMetadata": {},
     "inputWidgets": {},
     "nuid": "dc648f3f-8c83-425d-8cb0-7b38017df073",
     "showTitle": false,
     "title": ""
    }
   },
   "source": [
    "Method 1 of filtering Dataframe"
   ]
  },
  {
   "cell_type": "code",
   "execution_count": 0,
   "metadata": {
    "application/vnd.databricks.v1+cell": {
     "cellMetadata": {
      "byteLimit": 2048000,
      "rowLimit": 10000
     },
     "inputWidgets": {},
     "nuid": "017e5ea7-ad00-4926-a9fd-432465dcccdd",
     "showTitle": false,
     "title": ""
    }
   },
   "outputs": [
    {
     "output_type": "stream",
     "name": "stdout",
     "output_type": "stream",
     "text": [
      "+------+--------+-------+\n|id_new|name_new|age_new|\n+------+--------+-------+\n|    52|  Garnet|     30|\n+------+--------+-------+\n\n"
     ]
    }
   ],
   "source": [
    "df.filter(df.id_new == 52).show()"
   ]
  },
  {
   "cell_type": "markdown",
   "metadata": {
    "application/vnd.databricks.v1+cell": {
     "cellMetadata": {},
     "inputWidgets": {},
     "nuid": "341fbc9c-b9b1-45c6-a9ea-f69eae412e6c",
     "showTitle": false,
     "title": ""
    }
   },
   "source": [
    "Method 2 of filtering Dataframe"
   ]
  },
  {
   "cell_type": "code",
   "execution_count": 0,
   "metadata": {
    "application/vnd.databricks.v1+cell": {
     "cellMetadata": {
      "byteLimit": 2048000,
      "rowLimit": 10000
     },
     "inputWidgets": {},
     "nuid": "ddaa0183-a8ac-482a-84ab-a9b17db47edc",
     "showTitle": false,
     "title": ""
    }
   },
   "outputs": [
    {
     "output_type": "stream",
     "name": "stdout",
     "output_type": "stream",
     "text": [
      "+------+--------+-------+\n|id_new|name_new|age_new|\n+------+--------+-------+\n|    51|   Harry|     25|\n+------+--------+-------+\n\n"
     ]
    }
   ],
   "source": [
    "#single condition\n",
    "df.filter(col(\"id_new\") == 51).show()"
   ]
  },
  {
   "cell_type": "code",
   "execution_count": 0,
   "metadata": {
    "application/vnd.databricks.v1+cell": {
     "cellMetadata": {
      "byteLimit": 2048000,
      "rowLimit": 10000
     },
     "inputWidgets": {},
     "nuid": "c57d225a-d6f7-4849-a52c-2e52c1d3f93b",
     "showTitle": false,
     "title": ""
    }
   },
   "outputs": [
    {
     "output_type": "stream",
     "name": "stdout",
     "output_type": "stream",
     "text": [
      "+------+--------+-------+\n|id_new|name_new|age_new|\n+------+--------+-------+\n|    51|   Harry|     25|\n+------+--------+-------+\n\n"
     ]
    }
   ],
   "source": [
    "## Multiple condition with OR\n",
    "df.filter(\n",
    "    (col(\"id_new\") == 51) | (col(\"name_new\") == \"Garnet\")\n",
    ").show()"
   ]
  },
  {
   "cell_type": "code",
   "execution_count": 0,
   "metadata": {
    "application/vnd.databricks.v1+cell": {
     "cellMetadata": {
      "byteLimit": 2048000,
      "rowLimit": 10000
     },
     "inputWidgets": {},
     "nuid": "59bd9a30-2ed0-4be9-9e25-9d018e4c18a5",
     "showTitle": false,
     "title": ""
    }
   },
   "outputs": [
    {
     "output_type": "stream",
     "name": "stdout",
     "output_type": "stream",
     "text": [
      "+------+--------+-------+\n|id_new|name_new|age_new|\n+------+--------+-------+\n+------+--------+-------+\n\n"
     ]
    }
   ],
   "source": [
    "## Multiple condition with AND\n",
    "df.filter(\n",
    "    (col(\"id_new\") == 51) & (col(\"name_new\") == \"Garnet\")\n",
    ").show()"
   ]
  },
  {
   "cell_type": "code",
   "execution_count": 0,
   "metadata": {
    "application/vnd.databricks.v1+cell": {
     "cellMetadata": {
      "byteLimit": 2048000,
      "rowLimit": 10000
     },
     "inputWidgets": {},
     "nuid": "1027ff58-9c2b-4c06-ac31-bb5aec8ef3be",
     "showTitle": false,
     "title": ""
    }
   },
   "outputs": [
    {
     "output_type": "stream",
     "name": "stdout",
     "output_type": "stream",
     "text": [
      "+------+--------+-------+\n|id_new|name_new|age_new|\n+------+--------+-------+\n|    50|   James|     35|\n|    52|  Garnet|     30|\n+------+--------+-------+\n\n"
     ]
    }
   ],
   "source": [
    "## Single condition with NOT\n",
    "df.filter(\n",
    "    (col(\"id_new\") != 51)\n",
    ").show()"
   ]
  },
  {
   "cell_type": "code",
   "execution_count": 0,
   "metadata": {
    "application/vnd.databricks.v1+cell": {
     "cellMetadata": {},
     "inputWidgets": {},
     "nuid": "e0e41042-4398-43b2-a85b-a0cc0667f5bd",
     "showTitle": false,
     "title": ""
    }
   },
   "outputs": [],
   "source": []
  }
 ],
 "metadata": {
  "application/vnd.databricks.v1+notebook": {
   "dashboards": [],
   "environmentMetadata": null,
   "language": "python",
   "notebookMetadata": {
    "pythonIndentUnit": 4
   },
   "notebookName": "5. Filtering_Dataframe",
   "widgets": {}
  }
 },
 "nbformat": 4,
 "nbformat_minor": 0
}
