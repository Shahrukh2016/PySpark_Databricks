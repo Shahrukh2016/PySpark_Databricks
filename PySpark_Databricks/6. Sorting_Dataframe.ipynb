{
 "cells": [
  {
   "cell_type": "code",
   "execution_count": 0,
   "metadata": {
    "application/vnd.databricks.v1+cell": {
     "cellMetadata": {
      "byteLimit": 2048000,
      "rowLimit": 10000
     },
     "inputWidgets": {},
     "nuid": "8cb61377-7b54-48b7-857e-a12f60163c80",
     "showTitle": false,
     "title": ""
    }
   },
   "outputs": [
    {
     "output_type": "stream",
     "name": "stdout",
     "output_type": "stream",
     "text": [
      "+---+---------------+---+-------------+-------+\n| id|           name|age|     location| salary|\n+---+---------------+---+-------------+-------+\n|  1|     John Smith| 28|     New York|75000.0|\n|  2|    Emma Wilson| 34|  Los Angeles|85000.0|\n|  1|     John Smith| 28|     New York|75000.0|\n|  3|  Michael Brown| 45|      Chicago|92000.0|\n|  4|    Sarah Davis| 31|       Boston|78000.0|\n|  5| Robert Johnson| 39|      Seattle|88000.0|\n|  6|  Lisa Anderson| 29|San Francisco|95000.0|\n|  7|   James Wilson| 42|        Miami|82000.0|\n|  8|   Jennifer Lee| 36|      Houston|79000.0|\n|  2|    Emma Wilson| 35|  Los Angeles|87000.0|\n|  9| William Taylor| 41|      Phoenix|81000.0|\n| 10|    Emily White| 33|       Denver|76000.0|\n| 11|   David Miller| 38|      Atlanta|84000.0|\n| 12|  Jessica Brown| 30|       Dallas|77000.0|\n| 13|Daniel Martinez| 44|       Austin|89000.0|\n| 14|Michelle Garcia| 32|     Portland|78000.0|\n| 15|Christopher Lee| 37|    San Diego|86000.0|\n| 16|  Amanda Wright| 31| Philadelphia|75000.0|\n| 17| Kevin Thompson| 40|    Las Vegas|83000.0|\n| 18|  Melissa Davis| 35|      Detroit|79000.0|\n+---+---------------+---+-------------+-------+\nonly showing top 20 rows\n\n"
     ]
    }
   ],
   "source": [
    "from pyspark.sql import SparkSession\n",
    "from pyspark.sql.types import StructType, StructField, IntegerType, StringType, DoubleType\n",
    "\n",
    "# Initialize SparkSession\n",
    "spark = SparkSession.builder.appName(\"sample_data\").getOrCreate()\n",
    "\n",
    "# Define the schema\n",
    "schema = StructType([\n",
    "    StructField(\"id\", IntegerType(), True),\n",
    "    StructField(\"name\", StringType(), True),\n",
    "    StructField(\"age\", IntegerType(), True),\n",
    "    StructField(\"location\", StringType(), True),\n",
    "    StructField(\"salary\", DoubleType(), True)\n",
    "])\n",
    "\n",
    "# Sample data with some repetitions in id and complete rows\n",
    "data = [\n",
    "    (1, \"John Smith\", 28, \"New York\", 75000.0),\n",
    "    (2, \"Emma Wilson\", 34, \"Los Angeles\", 85000.0),\n",
    "    (1, \"John Smith\", 28, \"New York\", 75000.0),  # Repeated row\n",
    "    (3, \"Michael Brown\", 45, \"Chicago\", 92000.0),\n",
    "    (4, \"Sarah Davis\", 31, \"Boston\", 78000.0),\n",
    "    (5, \"Robert Johnson\", 39, \"Seattle\", 88000.0),\n",
    "    (6, \"Lisa Anderson\", 29, \"San Francisco\", 95000.0),\n",
    "    (7, \"James Wilson\", 42, \"Miami\", 82000.0),\n",
    "    (8, \"Jennifer Lee\", 36, \"Houston\", 79000.0),\n",
    "    (2, \"Emma Wilson\", 35, \"Los Angeles\", 87000.0),  # Same id, different details\n",
    "    (9, \"William Taylor\", 41, \"Phoenix\", 81000.0),\n",
    "    (10, \"Emily White\", 33, \"Denver\", 76000.0),\n",
    "    (11, \"David Miller\", 38, \"Atlanta\", 84000.0),\n",
    "    (12, \"Jessica Brown\", 30, \"Dallas\", 77000.0),\n",
    "    (13, \"Daniel Martinez\", 44, \"Austin\", 89000.0),\n",
    "    (14, \"Michelle Garcia\", 32, \"Portland\", 78000.0),\n",
    "    (15, \"Christopher Lee\", 37, \"San Diego\", 86000.0),\n",
    "    (16, \"Amanda Wright\", 31, \"Philadelphia\", 75000.0),\n",
    "    (17, \"Kevin Thompson\", 40, \"Las Vegas\", 83000.0),\n",
    "    (18, \"Melissa Davis\", 35, \"Detroit\", 79000.0),\n",
    "    (19, \"Ryan Wilson\", 33, \"Minneapolis\", 77000.0),\n",
    "    (20, \"Laura Martinez\", 36, \"Sacramento\", 82000.0),\n",
    "    (21, \"Steven Johnson\", 42, \"Nashville\", 88000.0),\n",
    "    (22, \"Nicole Brown\", 29, \"Salt Lake City\", 76000.0),\n",
    "    (23, \"Thomas Anderson\", 38, \"Orlando\", 84000.0),\n",
    "    (24, \"Rachel Taylor\", 34, \"Baltimore\", 81000.0),\n",
    "    (25, \"Joseph White\", 41, \"Charlotte\", 87000.0),\n",
    "    (15, \"Christopher Lee\", 37, \"San Diego\", 86000.0),  # Repeated row\n",
    "    (26, \"Rebecca Smith\", 30, \"Cleveland\", 75000.0),\n",
    "    (27, \"Patrick Davis\", 43, \"Pittsburgh\", 89000.0),\n",
    "    (28, \"Sandra Miller\", 35, \"Cincinnati\", 80000.0),\n",
    "    (29, \"George Wilson\", 39, \"Kansas City\", 83000.0),\n",
    "    (30, \"Angela Thompson\", 32, \"St. Louis\", 78000.0),\n",
    "    (31, \"Kenneth Brown\", 44, \"Milwaukee\", 86000.0),\n",
    "    (32, \"Catherine Lee\", 31, \"Columbus\", 77000.0),\n",
    "    (33, \"Edward Martinez\", 37, \"Indianapolis\", 82000.0),\n",
    "    (34, \"Diana Wright\", 33, \"San Antonio\", 79000.0),\n",
    "    (35, \"Ronald Davis\", 40, \"Providence\", 85000.0),\n",
    "    (36, \"Christine Wilson\", 36, \"Jacksonville\", 81000.0),\n",
    "    (37, \"Timothy White\", 34, \"Richmond\", 78000.0),\n",
    "    (38, \"Deborah Johnson\", 42, \"Memphis\", 87000.0),\n",
    "    (39, \"Jeffrey Brown\", 31, \"Louisville\", 76000.0),\n",
    "    (40, \"Julie Anderson\", 38, \"Buffalo\", 83000.0),\n",
    "    (41, \"Scott Taylor\", 35, \"Hartford\", 80000.0),\n",
    "    (42, \"Karen Martinez\", 43, \"Oklahoma City\", 88000.0),\n",
    "    (43, \"Dennis Wilson\", 30, \"Birmingham\", 75000.0),\n",
    "    (44, \"Sharon Davis\", 37, \"Rochester\", 82000.0),\n",
    "    (45, \"Gregory Thompson\", 39, \"Raleigh\", 84000.0),\n",
    "    (46, \"Amy Johnson\", 32, \"Tulsa\", 77000.0),\n",
    "    (47, \"Peter Brown\", 41, \"Grand Rapids\", 85000.0),\n",
    "    (48, \"Carol Anderson\", 34, \"Omaha\", 79000.0)\n",
    "]\n",
    "\n",
    "# Create DataFrame\n",
    "df = spark.createDataFrame(data, schema=schema)\n",
    "\n",
    "# Show the data\n",
    "df.show()"
   ]
  },
  {
   "cell_type": "code",
   "execution_count": 0,
   "metadata": {
    "application/vnd.databricks.v1+cell": {
     "cellMetadata": {
      "byteLimit": 2048000,
      "rowLimit": 10000
     },
     "inputWidgets": {},
     "nuid": "07d6729c-3aba-4611-acf0-919ad39490d8",
     "showTitle": false,
     "title": ""
    }
   },
   "outputs": [
    {
     "output_type": "stream",
     "name": "stdout",
     "output_type": "stream",
     "text": [
      "+---+---------------+---+-------------+-------+\n| id|           name|age|     location| salary|\n+---+---------------+---+-------------+-------+\n|  1|     John Smith| 28|     New York|75000.0|\n|  1|     John Smith| 28|     New York|75000.0|\n|  2|    Emma Wilson| 35|  Los Angeles|87000.0|\n|  2|    Emma Wilson| 34|  Los Angeles|85000.0|\n|  3|  Michael Brown| 45|      Chicago|92000.0|\n|  4|    Sarah Davis| 31|       Boston|78000.0|\n|  5| Robert Johnson| 39|      Seattle|88000.0|\n|  6|  Lisa Anderson| 29|San Francisco|95000.0|\n|  7|   James Wilson| 42|        Miami|82000.0|\n|  8|   Jennifer Lee| 36|      Houston|79000.0|\n|  9| William Taylor| 41|      Phoenix|81000.0|\n| 10|    Emily White| 33|       Denver|76000.0|\n| 11|   David Miller| 38|      Atlanta|84000.0|\n| 12|  Jessica Brown| 30|       Dallas|77000.0|\n| 13|Daniel Martinez| 44|       Austin|89000.0|\n| 14|Michelle Garcia| 32|     Portland|78000.0|\n| 15|Christopher Lee| 37|    San Diego|86000.0|\n| 15|Christopher Lee| 37|    San Diego|86000.0|\n| 16|  Amanda Wright| 31| Philadelphia|75000.0|\n| 17| Kevin Thompson| 40|    Las Vegas|83000.0|\n+---+---------------+---+-------------+-------+\nonly showing top 20 rows\n\n"
     ]
    }
   ],
   "source": [
    "## Geting data in ascending order (by default)\n",
    "df.sort(df.id).show()\n",
    "\n",
    "## OR\n",
    "# df.sort(df.id).show()"
   ]
  },
  {
   "cell_type": "code",
   "execution_count": 0,
   "metadata": {
    "application/vnd.databricks.v1+cell": {
     "cellMetadata": {
      "byteLimit": 2048000,
      "rowLimit": 10000
     },
     "inputWidgets": {},
     "nuid": "239ffc2d-3c25-4a56-aecf-19be43a7dc1f",
     "showTitle": false,
     "title": ""
    }
   },
   "outputs": [
    {
     "output_type": "stream",
     "name": "stdout",
     "output_type": "stream",
     "text": [
      "+---+----------------+---+-------------+-------+\n| id|            name|age|     location| salary|\n+---+----------------+---+-------------+-------+\n| 48|  Carol Anderson| 34|        Omaha|79000.0|\n| 47|     Peter Brown| 41| Grand Rapids|85000.0|\n| 46|     Amy Johnson| 32|        Tulsa|77000.0|\n| 45|Gregory Thompson| 39|      Raleigh|84000.0|\n| 44|    Sharon Davis| 37|    Rochester|82000.0|\n| 43|   Dennis Wilson| 30|   Birmingham|75000.0|\n| 42|  Karen Martinez| 43|Oklahoma City|88000.0|\n| 41|    Scott Taylor| 35|     Hartford|80000.0|\n| 40|  Julie Anderson| 38|      Buffalo|83000.0|\n| 39|   Jeffrey Brown| 31|   Louisville|76000.0|\n| 38| Deborah Johnson| 42|      Memphis|87000.0|\n| 37|   Timothy White| 34|     Richmond|78000.0|\n| 36|Christine Wilson| 36| Jacksonville|81000.0|\n| 35|    Ronald Davis| 40|   Providence|85000.0|\n| 34|    Diana Wright| 33|  San Antonio|79000.0|\n| 33| Edward Martinez| 37| Indianapolis|82000.0|\n| 32|   Catherine Lee| 31|     Columbus|77000.0|\n| 31|   Kenneth Brown| 44|    Milwaukee|86000.0|\n| 30| Angela Thompson| 32|    St. Louis|78000.0|\n| 29|   George Wilson| 39|  Kansas City|83000.0|\n+---+----------------+---+-------------+-------+\nonly showing top 20 rows\n\n+---+----------------+---+-------------+-------+\n| id|            name|age|     location| salary|\n+---+----------------+---+-------------+-------+\n| 48|  Carol Anderson| 34|        Omaha|79000.0|\n| 47|     Peter Brown| 41| Grand Rapids|85000.0|\n| 46|     Amy Johnson| 32|        Tulsa|77000.0|\n| 45|Gregory Thompson| 39|      Raleigh|84000.0|\n| 44|    Sharon Davis| 37|    Rochester|82000.0|\n| 43|   Dennis Wilson| 30|   Birmingham|75000.0|\n| 42|  Karen Martinez| 43|Oklahoma City|88000.0|\n| 41|    Scott Taylor| 35|     Hartford|80000.0|\n| 40|  Julie Anderson| 38|      Buffalo|83000.0|\n| 39|   Jeffrey Brown| 31|   Louisville|76000.0|\n| 38| Deborah Johnson| 42|      Memphis|87000.0|\n| 37|   Timothy White| 34|     Richmond|78000.0|\n| 36|Christine Wilson| 36| Jacksonville|81000.0|\n| 35|    Ronald Davis| 40|   Providence|85000.0|\n| 34|    Diana Wright| 33|  San Antonio|79000.0|\n| 33| Edward Martinez| 37| Indianapolis|82000.0|\n| 32|   Catherine Lee| 31|     Columbus|77000.0|\n| 31|   Kenneth Brown| 44|    Milwaukee|86000.0|\n| 30| Angela Thompson| 32|    St. Louis|78000.0|\n| 29|   George Wilson| 39|  Kansas City|83000.0|\n+---+----------------+---+-------------+-------+\nonly showing top 20 rows\n\n"
     ]
    }
   ],
   "source": [
    "## Geting data in descending order\n",
    "df.sort(df.id.desc()).show()\n",
    "\n",
    "# OR\n",
    "# df.orderBy(df.id.desc()).show()"
   ]
  },
  {
   "cell_type": "markdown",
   "metadata": {
    "application/vnd.databricks.v1+cell": {
     "cellMetadata": {},
     "inputWidgets": {},
     "nuid": "b7cad563-e400-4a74-84a0-b2c7f86c2a3f",
     "showTitle": false,
     "title": ""
    }
   },
   "source": [
    "Sorting data on multiple columns"
   ]
  },
  {
   "cell_type": "code",
   "execution_count": 0,
   "metadata": {
    "application/vnd.databricks.v1+cell": {
     "cellMetadata": {
      "byteLimit": 2048000,
      "rowLimit": 10000
     },
     "inputWidgets": {},
     "nuid": "659cc3b2-697f-4cd7-8efe-cad6dbf3ff64",
     "showTitle": false,
     "title": ""
    }
   },
   "outputs": [
    {
     "output_type": "stream",
     "name": "stdout",
     "output_type": "stream",
     "text": [
      "+---+----------------+---+-------------+-------+\n| id|            name|age|     location| salary|\n+---+----------------+---+-------------+-------+\n| 48|  Carol Anderson| 34|        Omaha|79000.0|\n| 47|     Peter Brown| 41| Grand Rapids|85000.0|\n| 46|     Amy Johnson| 32|        Tulsa|77000.0|\n| 45|Gregory Thompson| 39|      Raleigh|84000.0|\n| 44|    Sharon Davis| 37|    Rochester|82000.0|\n| 43|   Dennis Wilson| 30|   Birmingham|75000.0|\n| 42|  Karen Martinez| 43|Oklahoma City|88000.0|\n| 41|    Scott Taylor| 35|     Hartford|80000.0|\n| 40|  Julie Anderson| 38|      Buffalo|83000.0|\n| 39|   Jeffrey Brown| 31|   Louisville|76000.0|\n| 38| Deborah Johnson| 42|      Memphis|87000.0|\n| 37|   Timothy White| 34|     Richmond|78000.0|\n| 36|Christine Wilson| 36| Jacksonville|81000.0|\n| 35|    Ronald Davis| 40|   Providence|85000.0|\n| 34|    Diana Wright| 33|  San Antonio|79000.0|\n| 33| Edward Martinez| 37| Indianapolis|82000.0|\n| 32|   Catherine Lee| 31|     Columbus|77000.0|\n| 31|   Kenneth Brown| 44|    Milwaukee|86000.0|\n| 30| Angela Thompson| 32|    St. Louis|78000.0|\n| 29|   George Wilson| 39|  Kansas City|83000.0|\n+---+----------------+---+-------------+-------+\nonly showing top 20 rows\n\n"
     ]
    }
   ],
   "source": [
    "df.sort(df.id.desc(), df.salary).show()"
   ]
  },
  {
   "cell_type": "code",
   "execution_count": 0,
   "metadata": {
    "application/vnd.databricks.v1+cell": {
     "cellMetadata": {},
     "inputWidgets": {},
     "nuid": "0afc5fca-97ff-4603-b637-668a4e9818fc",
     "showTitle": false,
     "title": ""
    }
   },
   "outputs": [],
   "source": []
  }
 ],
 "metadata": {
  "application/vnd.databricks.v1+notebook": {
   "dashboards": [],
   "environmentMetadata": null,
   "language": "python",
   "notebookMetadata": {
    "pythonIndentUnit": 4
   },
   "notebookName": "6. Sorting_Dataframe",
   "widgets": {}
  }
 },
 "nbformat": 4,
 "nbformat_minor": 0
}
